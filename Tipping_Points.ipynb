{
 "cells": [
  {
   "cell_type": "markdown",
   "metadata": {},
   "source": [
    "### Tipping points \n",
    "In this notebook, we will explore qualitative changes in the behavior of solutions as we vary a parameter in our model. Our focus is on tipping points at which the underlying system undergoes a large change as a parameter crosses a certain critical value. We focus on two applications that occur at vastly different scales, namely (1) sudden outbreaks of spruce budworm populations in forests and (2) the transition from our current climate to an ice age (\"snowball earth\"). We use scalar differential equations to model budworm populations and the global energy balance on earth. Before we discuss these applications, we consider a common ingredient of tipping-point transitions."
   ]
  },
  {
   "cell_type": "code",
   "execution_count": 9,
   "metadata": {
    "tags": []
   },
   "outputs": [],
   "source": [
    "%matplotlib widget\n",
    "import ipywidgets as widgets\n",
    "import numpy as np\n",
    "import matplotlib.pyplot as plt\n",
    "import matplotlib.animation as animation\n",
    "import matplotlib.colors as colors\n",
    "from scipy.integrate import solve_ivp\n",
    "from scipy import interpolate\n",
    "from scipy.optimize import fsolve\n",
    "from skimage import measure\n",
    "import warnings\n",
    "\n",
    "def bifurcation_analysis(f, dfdu, pars, T, prange, urange, Np, Nu, layout='vertical', yaxislabel='dependent variable'):\n",
    "\n",
    "    def update_graph(r):\n",
    "        x = np.linspace(urange[0], urange[1], 100)\n",
    "        y = f(0, x, r, *pars)\n",
    "        lineF.set_data(x, y)\n",
    "        lineSelr.set_data([r, r], urange)\n",
    "\n",
    "        fp, fpUnstable = find_equilibria(r)\n",
    "        lineEqF.set_data(fp, 0*fp)\n",
    "        lineEqC.set_data(r+0*fp, fp)\n",
    "\n",
    "        fpData = np.array([[0],[0]])\n",
    "        for pt in fp:\n",
    "            fpData = np.concatenate((fpData, np.array([[0, T, np.nan], [pt, pt, np.nan]])), axis=1)\n",
    "        lineEqSol.set_data(fpData[:,1:])\n",
    "\n",
    "        icData = np.linspace(urange[0], urange[1], 10)\n",
    "        if fpUnstable.size != 0:\n",
    "            icData = np.concatenate((icData, fpUnstable-0.01, fpUnstable+0.01))\n",
    "        solu = []\n",
    "        solt = []\n",
    "        for u0 in icData:\n",
    "            sol = solve_ivp(f, [0, T], [u0], t_eval=t, args=[r, *pars], atol=1.e-8, rtol=1.e-6)\n",
    "            solu = np.concatenate((solu, sol.y[0], [np.nan]))\n",
    "            solt = np.concatenate((solt, sol.t, [np.nan]))\n",
    "        lineSol.set_data(solt, solu)\n",
    "\n",
    "    def find_equilibria(r):\n",
    "        fp = np.array([])\n",
    "        for tckCont in tck:\n",
    "            bspl = tckCont.copy()\n",
    "            bspl[1] = tckCont[1][0] - r\n",
    "            pspl = interpolate.PPoly.from_spline(bspl, extrapolate=False)\n",
    "            knots = pspl.roots()\n",
    "            if knots.size != 0:\n",
    "                fp = np.append(fp, interpolate.splev(knots, tckCont)[1])\n",
    "        fpUnstable = np.array([])\n",
    "        if fp.size != 0:\n",
    "            ind = np.where(dfdu(0, fp, r, *pars) > 0)[0]\n",
    "            fpUnstable = fp[ind]\n",
    "        return [fp, fpUnstable]\n",
    "\n",
    "    t = np.linspace(0, T, 100)\n",
    "    u, r = np.ogrid[urange[0]:urange[1]:(Nu*1j), prange[0]:prange[1]:(Np*1j)]\n",
    "\n",
    "    vf = f(0, u, r, *pars)\n",
    "    rawcontours = measure.find_contours(vf, 0.)\n",
    "    contours = np.array([[0],[0]])\n",
    "    tck = []\n",
    "    tplot = np.arange(0., 1., 0.001)\n",
    "\n",
    "    warnings.filterwarnings('ignore', 'The iteration is not making good progress')\n",
    "    for contour in rawcontours:\n",
    "        contour[:, [0,1]] = contour[:, [1,0]]\n",
    "        contour[:, 0] = prange[0] + (prange[1]-prange[0])*contour[:, 0]/Np\n",
    "        contour[:, 1] = urange[0] + (urange[1]-urange[0])*contour[:, 1]/Nu\n",
    "        for k in range(contour.shape[0]):\n",
    "            fp = contour[k, :]\n",
    "            if abs(dfdu(0, fp[1], fp[0], *pars))>0.1:\n",
    "                contour[k,1] = fsolve(lambda x: f(0, x, fp[0], *pars), fp[1])\n",
    "            else:\n",
    "                contour[k,0] = fsolve(lambda x: f(0, fp[1], x, *pars), fp[0])\n",
    "        tckCont, *_ = interpolate.splprep([contour[:, 0], contour[:, 1]], s=0)\n",
    "        tck.append(tckCont)\n",
    "\n",
    "    contours = np.concatenate(rawcontours, axis=0)\n",
    "    evalue = dfdu(0, contours[:, 1], contours[:, 0], *pars)\n",
    "    ind = np.where(evalue < 0)[0]\n",
    "    fpStable = np.insert(contours[ind, :], 1 + np.where(np.diff(ind) > 1)[0], np.NaN, axis=0)\n",
    "    ind = np.where(evalue > 0)[0]\n",
    "    fpUnstable = np.insert(contours[ind, :], 1 + np.where(np.diff(ind) > 1)[0], np.NaN, axis=0)\n",
    "\n",
    "    if layout=='vertical':\n",
    "        fig, ax = plt.subplots(3, 1, figsize=(4,9))\n",
    "    else:\n",
    "        fig, ax = plt.subplots(1, 3, figsize=(10,3))\n",
    "    lineF, = ax[0].plot([], [], linewidth=2, color=\"tab:green\", zorder=2)\n",
    "    lineEqF, = ax[0].plot([], [], c=\"tab:red\", marker='o', ls='', zorder=3)\n",
    "    ax[0].axhline(y=0, linewidth=1, color=\"tab:gray\", alpha=0.5, zorder=1)\n",
    "    ax[0].set_xlim(urange)\n",
    "    ax[0].set_ylim(np.amin(vf), np.amax(vf))\n",
    "    ax[0].set_xlabel(yaxislabel)\n",
    "    ax[0].set_ylabel('model right-hand side')\n",
    "\n",
    "    lineSol, = ax[1].plot([], [], linewidth=2, color=\"tab:blue\", zorder=2)\n",
    "    lineEqSol, = ax[1].plot([], [], linewidth=2, color=\"tab:red\", zorder=2)\n",
    "    ax[1].set_xlim(0, T)\n",
    "    ax[1].set_ylim(urange)\n",
    "    ax[1].set_xlabel('time t')\n",
    "    ax[1].set_ylabel(yaxislabel)\n",
    "\n",
    "    lineSelr, = ax[2].plot([], [], linewidth=2, color=\"tab:gray\", zorder=2)\n",
    "    lineEqC, = ax[2].plot([], [], c=\"tab:red\", marker='o', ls='', zorder=3)\n",
    "    extent = [prange[0], prange[1], urange[0], urange[1]]\n",
    "    img = ax[2].imshow(vf, cmap=plt.cm.RdBu, norm=colors.TwoSlopeNorm(vcenter=0),\n",
    "                       aspect='auto', extent=extent, origin='lower')\n",
    "    ax[2].plot(fpStable[:, 0], fpStable[:, 1], color='tab:purple', linewidth=3, zorder=1)\n",
    "    ax[2].plot(fpUnstable[:, 0], fpUnstable[:, 1], linestyle='dotted',\n",
    "               color='tab:purple', linewidth=3, zorder=1)\n",
    "    fig.colorbar(img,  ax=ax[2])\n",
    "    ax[2].set_xlabel('model parameter')\n",
    "    ax[2].set_ylabel(yaxislabel)\n",
    "\n",
    "    widgets.interact(update_graph, r=widgets.FloatSlider(description='Parameter:', value=(prange[1]+prange[0])/2,\n",
    "                                                         min=prange[0], max=prange[1], step=(prange[1]-prange[0])/20))   \n",
    "    plt.tight_layout()\n",
    "    plt.show()\n",
    "    \n",
    "    return [fpStable,  fpUnstable]\n",
    "\n",
    "def tipping_point(fold_slow, fp, u0, pars, T, prange, urange, Nframes=100, Neval=50, yaxislabel='dependent variable'):\n",
    "    def update_graph(k, u, Nframes, N, lineEP, lineSol):\n",
    "        if k == 0:\n",
    "            soln = u[:, 0:1]\n",
    "        elif k == Nframes:\n",
    "            soln = u\n",
    "        else:\n",
    "            soln = u[:, :k*N]\n",
    "        lineSol.set_data(soln[0, :], soln[1, :])\n",
    "        lineEP.set_data(soln[0, -1], soln[1, -1])\n",
    "\n",
    "    def cross_top(t, x, *args): return urange[1] - x[1]\n",
    "    def cross_bot(t, x, *args): return urange[0] - x[1]\n",
    "    cross_top.terminal = True\n",
    "    cross_bot.terminal = True\n",
    "\n",
    "    fig, ax = plt.subplots(1,1, figsize=(3.5,3))\n",
    "    ax.plot(fp[0][:,0], fp[0][:,1], color='tab:purple', linewidth=3, zorder=1)\n",
    "    ax.plot(fp[1][:,0], fp[1][:,1], linestyle='dotted', color='tab:purple', linewidth=3, zorder=1)\n",
    "    ax.plot(u0[0], u0[1], c=\"tab:gray\", marker='o', ls='', zorder=3)\n",
    "    lineEP, = ax.plot([], [], c=\"tab:red\", marker='o', ls='', zorder=3)\n",
    "    lineSol, = ax.plot([], [], linewidth=2, color=\"tab:blue\", zorder=2)\n",
    "    ax.set_xlim(prange)\n",
    "    ax.set_ylim(urange)\n",
    "    ax.set_xlabel('model parameter')\n",
    "    ax.set_ylabel(yaxislabel)\n",
    "    plt.tight_layout()\n",
    "    plt.show()\n",
    "    \n",
    "    sol = solve_ivp(fold_slow, [0, T], u0, t_eval=np.linspace(0, T, Neval*Nframes),\n",
    "                    events=[cross_top, cross_bot], args=[*pars], atol=1.e-8, rtol=1.e-6)\n",
    "    Nframes = 1 + int(np.ceil(len(sol.y[0,:])/Neval))\n",
    "    ani = animation.FuncAnimation(fig, update_graph, frames=range(0, Nframes),\n",
    "                                  fargs=(sol.y, Nframes, Neval, lineEP, lineSol),\n",
    "                                  interval=50, repeat=False)\n",
    "    fig.canvas.draw()"
   ]
  },
  {
   "cell_type": "markdown",
   "metadata": {},
   "source": [
    "### Tipping points via \"fold bifurcations\"\n",
    "We consider the prototype system $\\frac{du}{dt} = -(\\mu + u^2)$, which exhibits a tipping point at $\\mu=0$. To explore the behavior of solutions to this system as the parameter $\\mu$ is varied, the next cell will generates several graphs organized in three panels. The first panel shows the graph of the right-hand side $f(u,\\mu)=-(\\mu+u^2)$ as a function of $u$ for a fixed value of  the parameter $\\mu$: intersections with  the horizontal axis are marked in red and correspond to the equilibria. The second panel shows the equilibria and selected solutions $u(t)$ as functions of time $t$ for the same value of $\\mu$. The third panel illustrates the $(\\mu,u)$-plane: shown in purple is the curve $\\mu=-u^2$ of all equilibria (solid=stable, dashed=unstable), while the colors of the background image reflect the values of the right-hand side $f(u,\\mu)$. The vertical line is plotted at the current value of the parameter $\\mu$. Use the slider at the bottom to vary the value of $\\mu$ and explore the dynamics of the system.  "
   ]
  },
  {
   "cell_type": "code",
   "execution_count": 10,
   "metadata": {},
   "outputs": [
    {
     "data": {
      "application/vnd.jupyter.widget-view+json": {
       "model_id": "fd701d01704943d192f4fa659a235c03",
       "version_major": 2,
       "version_minor": 0
      },
      "text/plain": [
       "Canvas(toolbar=Toolbar(toolitems=[('Home', 'Reset original view', 'home', 'home'), ('Back', 'Back to previous …"
      ]
     },
     "metadata": {},
     "output_type": "display_data"
    },
    {
     "data": {
      "application/vnd.jupyter.widget-view+json": {
       "model_id": "ccaca653c44e4dc684e3e446cde6243d",
       "version_major": 2,
       "version_minor": 0
      },
      "text/plain": [
       "interactive(children=(FloatSlider(value=-0.25, description='Parameter:', max=0.5, min=-1.0, step=0.075), Outpu…"
      ]
     },
     "metadata": {},
     "output_type": "display_data"
    }
   ],
   "source": [
    "def fold(t, u, mu):\n",
    "    return - (mu + u**2)\n",
    "\n",
    "def fold_jac(t, u, mu):\n",
    "    return -2*u\n",
    "\n",
    "T = 15\n",
    "prange=[-1.0, 0.5]\n",
    "urange=[-1.5, 1.5]\n",
    "\n",
    "fpFold = bifurcation_analysis(fold, fold_jac, [], T, prange, urange, Np=100, Nu=200, layout='horizontal')"
   ]
  },
  {
   "cell_type": "markdown",
   "metadata": {},
   "source": [
    "The equilibria of this system are given by the points $(u,\\mu)$ with $\\mu=-u^2$ or, equivalently, by $u_\\pm=\\pm\\sqrt{-\\mu}$ where we need to restrict the parameter $\\mu$ to negative values so that the square root is well defined. Hence, for each fixed $\\mu<0$, the system has two equilibria, and we see that $u_+$ is stable, while $u_-$ is unstable. These two equilibria collide when $\\mu=0$ and are no longer present for $\\mu>0$. Thus, if we initialize our system with $u(0)=u_0>0$, the solution $u(t)$ will converge to $u_+(\\mu)$ as $t\\to\\infty$ when $\\mu\\leq0$. However, for $\\mu>0$, the solution will converge to $-\\infty$! As $\\mu$ crosses zero, the long-time behavior of the system therefore changes drastically."
   ]
  },
  {
   "cell_type": "markdown",
   "metadata": {},
   "source": [
    "#### Encountering tipping points\n",
    "Imagine now that the parameter $\\mu$ changes very slowly in time: as an example, we will choose $\\mu(t)=-0.9+0.001\\,t$. Starting with $u(0)=1.4$, the corresponding solution should approach $u_+$ rapidly since $\\mu(0)=-0.9<0$ is negative. As $t$ increases, $\\mu=\\mu(t)$ will increase slowly, and our solution should closely follow the curve $u=u_-(\\mu(t))$ of equilibria. Once $t$ is so large that $\\mu(t)>0$, the solution $u(t)$ will approach $-\\infty$. The animation in the following cell allows us to test this intuition."
   ]
  },
  {
   "cell_type": "code",
   "execution_count": 11,
   "metadata": {},
   "outputs": [
    {
     "data": {
      "application/vnd.jupyter.widget-view+json": {
       "model_id": "67d46cfb779746f69348ca65753c9370",
       "version_major": 2,
       "version_minor": 0
      },
      "text/plain": [
       "Canvas(toolbar=Toolbar(toolitems=[('Home', 'Reset original view', 'home', 'home'), ('Back', 'Back to previous …"
      ]
     },
     "metadata": {},
     "output_type": "display_data"
    }
   ],
   "source": [
    "def fold_tipping(t, u):\n",
    "    f1 = 0.001\n",
    "    f2 = fold(t, u[1], u[0])\n",
    "    return [f1, f2]\n",
    "\n",
    "u0 = [-0.9, 1.4]\n",
    "T = 1000\n",
    "Nframes = 100\n",
    "Neval = 50\n",
    "pars = []\n",
    "\n",
    "tipping_point(fold_tipping, fpFold, u0, pars, T, prange, urange, Nframes, Neval)"
   ]
  },
  {
   "attachments": {
    "e4b9b8b7-3ab7-4925-80e5-2bdb2b45f9e9.png": {
     "image/png": "[encoded data removed]"
    }
   },
   "cell_type": "markdown",
   "metadata": {},
   "source": [
    "### Modeling spruce budworm populations\n",
    "The larvae (caterpillars) of spruce budworms (several species in the Choristoneura genus of moths) feed on the buds and needles of spruce and fir. The figure below (taken from the 2011 R10-TP-152 spruce budworm leaflet of the USDA) shows the caterpillars (left) and the adult moths (right). Normally, budworm populations stay low, but there are significant outbreaks every 30-70 years that can lead to complete defoliation and devastating damage to forests. We explore a model of the budworm population that builds on the logistic equation and adds predation by birds who normally control budworm populations. We denote the population of budworms at time $t$ by $u(t)$ and consider the non-dimensionalized model\n",
    "$$\\frac{du}{dt}=ru(1-u/K)-\\frac{u^2}{1+u^2},$$\n",
    "where $r$ corresponds to the growth rate of budworms at small populations, and $K$ is the carrying capacity. The term $u^2/(1+u^2)$ models predation by a constant population of opportunistic birds: For small budworm populations $u$, birds will look for other prey, which is reflected by the fact that $u^2/(1+u^2)$ is small when $u$ is small. For large budworm populations, birds will prey on budworms, but since the bird population stays constant, the number of budworms eaten by birds approaches a constant when $u$ increases, which is indeed the case for the term $u^2/(1+u^2)$ which converges to one as $u$ increases. We now plot the same graphs as for the preceding system. We will set $K=10$ and vary the growth rate  $r$ in the interval $[0.2,0.7]$.\n",
    "\n",
    "![Budworm.png](attachment:e4b9b8b7-3ab7-4925-80e5-2bdb2b45f9e9.png)"
   ]
  },
  {
   "cell_type": "code",
   "execution_count": 13,
   "metadata": {},
   "outputs": [
    {
     "data": {
      "application/vnd.jupyter.widget-view+json": {
       "model_id": "3180cc93fc18457f9adfa172f7155071",
       "version_major": 2,
       "version_minor": 0
      },
      "text/plain": [
       "Canvas(toolbar=Toolbar(toolitems=[('Home', 'Reset original view', 'home', 'home'), ('Back', 'Back to previous …"
      ]
     },
     "metadata": {},
     "output_type": "display_data"
    },
    {
     "data": {
      "application/vnd.jupyter.widget-view+json": {
       "model_id": "5ee1e871754947848461a8d432798299",
       "version_major": 2,
       "version_minor": 0
      },
      "text/plain": [
       "interactive(children=(FloatSlider(value=0.44999999999999996, description='Parameter:', max=0.7, min=0.2, step=…"
      ]
     },
     "metadata": {},
     "output_type": "display_data"
    }
   ],
   "source": [
    "def budworm(t, u, r, K):\n",
    "    return r*u*(1-u/K) - u*u/(1+u*u)\n",
    "\n",
    "def budworm_jac(t, u, r, K):\n",
    "    return r*(1-2*u/K) - 2*u*( 1/(1+u*u) - u*u/(1+u*u)**2 )\n",
    "\n",
    "K = 10\n",
    "T = 75\n",
    "prange = [0.2, 0.7]\n",
    "urange = [-0.5, 9]\n",
    "\n",
    "fpBudworm = bifurcation_analysis(budworm, budworm_jac, [K], T, prange, urange, Np=100, Nu=1000, layout='horizontal', yaxislabel='budworm population size')"
   ]
  },
  {
   "cell_type": "markdown",
   "metadata": {},
   "source": [
    "Next, we consider  the case where the spruce fir forest grows slowly over time and therefore provides an increasing amount of food resources for the budwork population. If the budworm population becomes too large, the spruce firs will die due to overfeeding of the budworms. To model this situation, we allow the parameter $r$ to change slowly in time. For small budworm population, the growth rate $r$ will slowly increase in time, while it will decrease slowly for large budworm populations. We start the differential equation for the time-dependent vector $(r,u)$ with the initial condition $(r_0,u_0)=(0.21, 2)$. The following simulation shows that as the growth rate $r$ increases slowly in time the budworm population will slowly increase by tracking the stable lower equilibrium branch. Once $r(t)$ reaches the rightmost fold where the equilibrium disappears, the population jumps upwards to the upper stable equilibrium, thus indicating a sudden outbreak of these insects. Since $r(t)$ now decreases, the budworm population will track the stable upper equilibrium branch until $r(t)$ reaches the leftmost fold, where the budworm population will collapse to the lower equilibrium. This process now repeats itself."
   ]
  },
  {
   "cell_type": "code",
   "execution_count": 14,
   "metadata": {},
   "outputs": [
    {
     "data": {
      "application/vnd.jupyter.widget-view+json": {
       "model_id": "b90aedd0e9764daf96b1ec8e9868579b",
       "version_major": 2,
       "version_minor": 0
      },
      "text/plain": [
       "Canvas(toolbar=Toolbar(toolitems=[('Home', 'Reset original view', 'home', 'home'), ('Back', 'Back to previous …"
      ]
     },
     "metadata": {},
     "output_type": "display_data"
    }
   ],
   "source": [
    "def budworm_tipping(t, u, K):\n",
    "    f1 = 0.0005*np.sign(K/3-u[1])\n",
    "    f2 = budworm(t, u[1], u[0], K)\n",
    "    return [f1, f2]\n",
    "\n",
    "K = 10\n",
    "u0 = [0.21, 2.0]\n",
    "T = 2000\n",
    "Nframes = 300\n",
    "Neval = 100\n",
    "\n",
    "tipping_point(budworm_tipping, fpBudworm, u0, [K], T, prange, urange, Nframes, Neval, yaxislabel='budworm population size')"
   ]
  },
  {
   "cell_type": "markdown",
   "metadata": {},
   "source": [
    "### Global energy climate models\n",
    "Models of the earth's energy balance can also exhibit tipping points. Here, we focus on a one-dimensional model of the average surface temperature. Using a compartment model, this model is given by\n",
    "$$C\\frac{dT}{dt} = E_\\mathrm{in}-E_\\mathrm{out},$$\n",
    "where $T(t)$ is the average surface  temperature at time $t$, $C$ is the heat capacity (the energy per area needed to raise the temperature by one Kelvin), and the two terms on the right-hand side are the rates at which energy per area is absorbed or emitted per unit time. The energy  per area emitted from the sun and reaching earth is given by $Q$. A fraction $\\alpha$ of this energy is reflected back into space (e.g. by ice), and we therefore have $E_\\mathrm{in}=(1-\\alpha)Q$, where $\\alpha$ is usually referred to as the albedo. Earth emits energy in the infrared regime, where it acts as a back body. The outgoing energy per area depends on the temperature and is given by $E_\\mathrm{in}=\\epsilon\\sigma T^4$, where $\\sigma$ is the Stefan constant, and $0<\\epsilon<1$ accounts for the fact that the earth is not a perfect black body due to greenhouse effects. Our model therefore becomes\n",
    "$$\\frac{dT}{d\\tau} = (1-\\alpha)Q - \\epsilon\\sigma T^4,$$\n",
    "where we use the normalized time variable $\\tau:=t/C$. The albedo $\\alpha$ depends on the temperature $T$ since water turns into ice for lower temperatures, thus increasing the albedo. We use the function $\\alpha=\\alpha(T)=0.5-0.2\\tanh((T-260)/10)$ to model this effect. Our final model is given by\n",
    "$$\\frac{dT}{d\\tau} = (1-\\alpha(T))Q - \\epsilon\\sigma T^4, \\qquad \\alpha(T)=0.5-0.2\\tanh((T-260)/10).$$\n",
    "We now explore the dynamics of this model when we change the solar constant $Q$ from its current value $Q_0$, using the parameter $\\mu=Q/Q_0$ near one. The graphs below show that there are regions with two stable equilibrium temperatues, given by the current climate and a \"snowball earth\" climate with significantly lower mean temperature. Transitions between these two states occur again via tipping points as $\\mu$ is decreased or increased."
   ]
  },
  {
   "cell_type": "code",
   "execution_count": 15,
   "metadata": {},
   "outputs": [
    {
     "data": {
      "application/vnd.jupyter.widget-view+json": {
       "model_id": "a58bb21dfecf4cba8c381995fba597b8",
       "version_major": 2,
       "version_minor": 0
      },
      "text/plain": [
       "Canvas(toolbar=Toolbar(toolitems=[('Home', 'Reset original view', 'home', 'home'), ('Back', 'Back to previous …"
      ]
     },
     "metadata": {},
     "output_type": "display_data"
    },
    {
     "data": {
      "application/vnd.jupyter.widget-view+json": {
       "model_id": "9c8e91d4edd84b3ea779f0b0ac473dc5",
       "version_major": 2,
       "version_minor": 0
      },
      "text/plain": [
       "interactive(children=(FloatSlider(value=1.05, description='Parameter:', max=1.3, min=0.8, step=0.025), Output(…"
      ]
     },
     "metadata": {},
     "output_type": "display_data"
    }
   ],
   "source": [
    "def climate(t, T, mu, epsilon, sigma, Q0):\n",
    "    alpha = 0.5 - 0.2*np.tanh((T-265)/10)\n",
    "    return (1-alpha)*Q0*mu - epsilon*sigma*T**4\n",
    "\n",
    "def climate_jac(t, T, mu, epsilon, sigma, Q0):\n",
    "    alpha = 0.5 - 0.2*np.tanh((T-265)/10)\n",
    "    dalpha = -0.2/10*(1.0-np.tanh((T-265)/10)**2)\n",
    "    return - dalpha*Q0*mu - 4*epsilon*sigma*T**3\n",
    "\n",
    "pars = [0.6, 5.67e-08, 342]\n",
    "T = 2\n",
    "prange = [0.8, 1.3]\n",
    "urange = [220, 310]\n",
    "\n",
    "fpClimate = bifurcation_analysis(climate, climate_jac, pars, T, prange, urange, Np=1000, Nu=1000, layout='horizontal', yaxislabel='temperature (in Kelvin)')"
   ]
  },
  {
   "cell_type": "code",
   "execution_count": null,
   "metadata": {},
   "outputs": [],
   "source": []
  }
 ],
 "metadata": {
  "kernelspec": {
   "display_name": "Python 3",
   "language": "python",
   "name": "apma0350"
  },
  "language_info": {
   "codemirror_mode": {
    "name": "ipython",
    "version": 3
   },
   "file_extension": ".py",
   "mimetype": "text/x-python",
   "name": "python",
   "nbconvert_exporter": "python",
   "pygments_lexer": "ipython3",
   "version": "3.8.10"
  },
  "widgets": {
   "application/vnd.jupyter.widget-state+json": {
    "state": {
     "0105c035615d4501a49c23ada4031d5b": {
      "model_module": "@jupyter-widgets/base",
      "model_module_version": "1.2.0",
      "model_name": "LayoutModel",
      "state": {}
     },
     "01a92f2ebb174a76b32b030c2ff43962": {
      "model_module": "@jupyter-widgets/base",
      "model_module_version": "1.2.0",
      "model_name": "LayoutModel",
      "state": {}
     },
     "04d880df4256426ba068c7d444a1366c": {
      "model_module": "@jupyter-widgets/output",
      "model_module_version": "1.0.0",
      "model_name": "OutputModel",
      "state": {
       "layout": "IPY_MODEL_89debd9b7e694a6b8fa223895074ddf1"
      }
     },
     "06ea839493054d77874bd3e4254d1b42": {
      "model_module": "jupyter-matplotlib",
      "model_module_version": "^0.7.4",
      "model_name": "ToolbarModel",
      "state": {
       "layout": "IPY_MODEL_f3c8a64b730a47a8a80c60b01815c351",
       "toolitems": [
        [
         "Home",
         "Reset original view",
         "home",
         "home"
        ],
        [
         "Back",
         "Back to previous view",
         "arrow-left",
         "back"
        ],
        [
         "Forward",
         "Forward to next view",
         "arrow-right",
         "forward"
        ],
        [
         "Pan",
         "Left button pans, Right button zooms\nx/y fixes axis, CTRL fixes aspect",
         "arrows",
         "pan"
        ],
        [
         "Zoom",
         "Zoom to rectangle\nx/y fixes axis, CTRL fixes aspect",
         "square-o",
         "zoom"
        ],
        [
         "Download",
         "Download plot",
         "floppy-o",
         "save_figure"
        ]
       ]
      }
     },
     "094d12ca46eb4cfc91e97ab59a12f1a4": {
      "model_module": "@jupyter-widgets/base",
      "model_module_version": "1.2.0",
      "model_name": "LayoutModel",
      "state": {}
     },
     "099c236c1429494e827aaedf4763e2fb": {
      "model_module": "@jupyter-widgets/base",
      "model_module_version": "1.2.0",
      "model_name": "LayoutModel",
      "state": {}
     },
     "12263d61ba4c463e8293a55f6411050b": {
      "model_module": "@jupyter-widgets/base",
      "model_module_version": "1.2.0",
      "model_name": "LayoutModel",
      "state": {}
     },
     "15017042d0f24c19bba049311d10b8ca": {
      "model_module": "jupyter-matplotlib",
      "model_module_version": "^0.7.4",
      "model_name": "MPLCanvasModel",
      "state": {
       "_cursor": "default",
       "_figure_label": "Figure 7",
       "_height": 300,
       "_image_mode": "diff",
       "_message": "x=0.482 y=3.02\n[0.1164]",
       "_width": 1000,
       "layout": "IPY_MODEL_3a8533a50ceb43b492a66d593776fb50",
       "toolbar": "IPY_MODEL_06ea839493054d77874bd3e4254d1b42",
       "toolbar_position": "left"
      }
     },
     "18e446d0b18f4c90bb8ed7952ee52731": {
      "model_module": "@jupyter-widgets/base",
      "model_module_version": "1.2.0",
      "model_name": "LayoutModel",
      "state": {}
     },
     "1968a1fc80f64c01ae842d29812a84c2": {
      "model_module": "@jupyter-widgets/controls",
      "model_module_version": "1.5.0",
      "model_name": "VBoxModel",
      "state": {
       "_dom_classes": [
        "widget-interact"
       ],
       "children": [
        "IPY_MODEL_7e5fc4cf23a7464cb306e6d46bd5e92e",
        "IPY_MODEL_04d880df4256426ba068c7d444a1366c"
       ],
       "layout": "IPY_MODEL_2ab68eb9c84247ca9b1a8313547efcd4"
      }
     },
     "1d61e4c024d64d288524c6d7ddd47a21": {
      "model_module": "@jupyter-widgets/base",
      "model_module_version": "1.2.0",
      "model_name": "LayoutModel",
      "state": {}
     },
     "20c9a7dd08cf453790631ca8f4e48dc2": {
      "model_module": "@jupyter-widgets/base",
      "model_module_version": "1.2.0",
      "model_name": "LayoutModel",
      "state": {}
     },
     "2281c066c57d4e7c88f91818a8f270af": {
      "model_module": "@jupyter-widgets/controls",
      "model_module_version": "1.5.0",
      "model_name": "VBoxModel",
      "state": {
       "_dom_classes": [
        "widget-interact"
       ],
       "children": [
        "IPY_MODEL_b61f0e73c0d4488a89e6feb7ee686003",
        "IPY_MODEL_49233b189208469b93e144102dd1814e"
       ],
       "layout": "IPY_MODEL_f7dbb1ef510043a7b4381bed6e5aaaea"
      }
     },
     "22f223bdf7c442c78abc3319c558b182": {
      "model_module": "@jupyter-widgets/base",
      "model_module_version": "1.2.0",
      "model_name": "LayoutModel",
      "state": {}
     },
     "2699adbb1c9d4c01901209b4f3cab1f7": {
      "model_module": "jupyter-matplotlib",
      "model_module_version": "^0.7.4",
      "model_name": "ToolbarModel",
      "state": {
       "layout": "IPY_MODEL_20c9a7dd08cf453790631ca8f4e48dc2",
       "toolitems": [
        [
         "Home",
         "Reset original view",
         "home",
         "home"
        ],
        [
         "Back",
         "Back to previous view",
         "arrow-left",
         "back"
        ],
        [
         "Forward",
         "Forward to next view",
         "arrow-right",
         "forward"
        ],
        [
         "Pan",
         "Left button pans, Right button zooms\nx/y fixes axis, CTRL fixes aspect",
         "arrows",
         "pan"
        ],
        [
         "Zoom",
         "Zoom to rectangle\nx/y fixes axis, CTRL fixes aspect",
         "square-o",
         "zoom"
        ],
        [
         "Download",
         "Download plot",
         "floppy-o",
         "save_figure"
        ]
       ]
      }
     },
     "27a30370e86f47c59e2f1d8d407ef175": {
      "model_module": "@jupyter-widgets/base",
      "model_module_version": "1.2.0",
      "model_name": "LayoutModel",
      "state": {}
     },
     "2ab68eb9c84247ca9b1a8313547efcd4": {
      "model_module": "@jupyter-widgets/base",
      "model_module_version": "1.2.0",
      "model_name": "LayoutModel",
      "state": {}
     },
     "2f311a75126145d7a84f741e3f5092c3": {
      "model_module": "@jupyter-widgets/output",
      "model_module_version": "1.0.0",
      "model_name": "OutputModel",
      "state": {
       "layout": "IPY_MODEL_f44d0eebf2d54d8a95960195a820d974"
      }
     },
     "2fdfb4e8cc5c4aa0a101ddcbcd4b405d": {
      "model_module": "jupyter-matplotlib",
      "model_module_version": "^0.7.4",
      "model_name": "ToolbarModel",
      "state": {
       "layout": "IPY_MODEL_bb16047b415d4c7abde874767f5e10ed",
       "toolitems": [
        [
         "Home",
         "Reset original view",
         "home",
         "home"
        ],
        [
         "Back",
         "Back to previous view",
         "arrow-left",
         "back"
        ],
        [
         "Forward",
         "Forward to next view",
         "arrow-right",
         "forward"
        ],
        [
         "Pan",
         "Left button pans, Right button zooms\nx/y fixes axis, CTRL fixes aspect",
         "arrows",
         "pan"
        ],
        [
         "Zoom",
         "Zoom to rectangle\nx/y fixes axis, CTRL fixes aspect",
         "square-o",
         "zoom"
        ],
        [
         "Download",
         "Download plot",
         "floppy-o",
         "save_figure"
        ]
       ]
      }
     },
     "35e8b65a30c34420ab8c804d2cc21e01": {
      "model_module": "@jupyter-widgets/base",
      "model_module_version": "1.2.0",
      "model_name": "LayoutModel",
      "state": {}
     },
     "3a8533a50ceb43b492a66d593776fb50": {
      "model_module": "@jupyter-widgets/base",
      "model_module_version": "1.2.0",
      "model_name": "LayoutModel",
      "state": {}
     },
     "3e1ec1ee07bd40b39ae1b933f3fd98d5": {
      "model_module": "@jupyter-widgets/controls",
      "model_module_version": "1.5.0",
      "model_name": "SliderStyleModel",
      "state": {
       "description_width": ""
      }
     },
     "46dbc73151674ef395239bc4f8352b2f": {
      "model_module": "@jupyter-widgets/base",
      "model_module_version": "1.2.0",
      "model_name": "LayoutModel",
      "state": {}
     },
     "49233b189208469b93e144102dd1814e": {
      "model_module": "@jupyter-widgets/output",
      "model_module_version": "1.0.0",
      "model_name": "OutputModel",
      "state": {
       "layout": "IPY_MODEL_d7262fd522944e02beed5272eb735332"
      }
     },
     "4a1e0c77716549c9ab236f2e34b0d0cb": {
      "model_module": "@jupyter-widgets/output",
      "model_module_version": "1.0.0",
      "model_name": "OutputModel",
      "state": {
       "layout": "IPY_MODEL_c420fc3fc4a642298fdfb3f30cc52262"
      }
     },
     "4a4b2ea0868b417482decc95c2587718": {
      "model_module": "@jupyter-widgets/base",
      "model_module_version": "1.2.0",
      "model_name": "LayoutModel",
      "state": {}
     },
     "5affa48dbd3c4a67a35cfc9d7c121de7": {
      "model_module": "@jupyter-widgets/controls",
      "model_module_version": "1.5.0",
      "model_name": "FloatSliderModel",
      "state": {
       "description": "Parameter:",
       "layout": "IPY_MODEL_22f223bdf7c442c78abc3319c558b182",
       "max": 0.7,
       "min": 0.2,
       "step": 0.024999999999999998,
       "style": "IPY_MODEL_6c125776c9284e6e824fca584ab98066",
       "value": 0.625
      }
     },
     "5d2f1d46afa34eed8552bc812945551b": {
      "model_module": "@jupyter-widgets/output",
      "model_module_version": "1.0.0",
      "model_name": "OutputModel",
      "state": {
       "layout": "IPY_MODEL_099c236c1429494e827aaedf4763e2fb"
      }
     },
     "5d590767700c4adaba469a6371f9c761": {
      "model_module": "jupyter-matplotlib",
      "model_module_version": "^0.7.4",
      "model_name": "MPLCanvasModel",
      "state": {
       "_cursor": "default",
       "_figure_label": "Figure 6",
       "_height": 300,
       "_image_mode": "diff",
       "_message": "x=0.9767 y=287.0",
       "_width": 350,
       "layout": "IPY_MODEL_8f35602f7c33452280f1659580c0ce4e",
       "toolbar": "IPY_MODEL_2fdfb4e8cc5c4aa0a101ddcbcd4b405d",
       "toolbar_position": "left"
      }
     },
     "6292892b08494255a02d7c0cf12dd866": {
      "model_module": "jupyter-matplotlib",
      "model_module_version": "^0.7.4",
      "model_name": "MPLCanvasModel",
      "state": {
       "_cursor": "default",
       "_figure_label": "Figure 10",
       "_height": 300,
       "_width": 1000,
       "layout": "IPY_MODEL_8e3af5f2f384485988faf48963bcde24",
       "toolbar": "IPY_MODEL_8e184f2746be4d9881b0d4c1929642ff",
       "toolbar_position": "left"
      }
     },
     "69fb73130a8a46c082f7aff8f9cc3507": {
      "model_module": "jupyter-matplotlib",
      "model_module_version": "^0.7.4",
      "model_name": "MPLCanvasModel",
      "state": {
       "_cursor": "default",
       "_figure_label": "Figure 2",
       "_height": 300,
       "_image_mode": "diff",
       "_message": "x=−0.048 y=0.069",
       "_width": 350,
       "layout": "IPY_MODEL_0105c035615d4501a49c23ada4031d5b",
       "toolbar": "IPY_MODEL_8aaa1e6376dc47fb8607b9f4a969a9c1",
       "toolbar_position": "left"
      }
     },
     "6b5580d970394bfe84da3ae3c9b7b486": {
      "model_module": "@jupyter-widgets/base",
      "model_module_version": "1.2.0",
      "model_name": "LayoutModel",
      "state": {}
     },
     "6c125776c9284e6e824fca584ab98066": {
      "model_module": "@jupyter-widgets/controls",
      "model_module_version": "1.5.0",
      "model_name": "SliderStyleModel",
      "state": {
       "description_width": ""
      }
     },
     "6d499125833b4e64a7c6be62f41bb95e": {
      "model_module": "@jupyter-widgets/base",
      "model_module_version": "1.2.0",
      "model_name": "LayoutModel",
      "state": {}
     },
     "7a321d3e4cdc450c8b964b5cea8120e4": {
      "model_module": "@jupyter-widgets/controls",
      "model_module_version": "1.5.0",
      "model_name": "VBoxModel",
      "state": {
       "_dom_classes": [
        "widget-interact"
       ],
       "children": [
        "IPY_MODEL_aa60684164fc47a1afa8325cd073fdf6",
        "IPY_MODEL_2f311a75126145d7a84f741e3f5092c3"
       ],
       "layout": "IPY_MODEL_1d61e4c024d64d288524c6d7ddd47a21"
      }
     },
     "7c01b1630ced4a03b87afe6b955ca9a0": {
      "model_module": "jupyter-matplotlib",
      "model_module_version": "^0.7.4",
      "model_name": "ToolbarModel",
      "state": {
       "layout": "IPY_MODEL_b57093a642aa4e96b46f596c1c11bf33",
       "toolitems": [
        [
         "Home",
         "Reset original view",
         "home",
         "home"
        ],
        [
         "Back",
         "Back to previous view",
         "arrow-left",
         "back"
        ],
        [
         "Forward",
         "Forward to next view",
         "arrow-right",
         "forward"
        ],
        [
         "Pan",
         "Left button pans, Right button zooms\nx/y fixes axis, CTRL fixes aspect",
         "arrows",
         "pan"
        ],
        [
         "Zoom",
         "Zoom to rectangle\nx/y fixes axis, CTRL fixes aspect",
         "square-o",
         "zoom"
        ],
        [
         "Download",
         "Download plot",
         "floppy-o",
         "save_figure"
        ]
       ]
      }
     },
     "7c93fc3d8d4a40cfa6c1375da3d1ffae": {
      "model_module": "jupyter-matplotlib",
      "model_module_version": "^0.7.4",
      "model_name": "ToolbarModel",
      "state": {
       "layout": "IPY_MODEL_01a92f2ebb174a76b32b030c2ff43962",
       "toolitems": [
        [
         "Home",
         "Reset original view",
         "home",
         "home"
        ],
        [
         "Back",
         "Back to previous view",
         "arrow-left",
         "back"
        ],
        [
         "Forward",
         "Forward to next view",
         "arrow-right",
         "forward"
        ],
        [
         "Pan",
         "Left button pans, Right button zooms\nx/y fixes axis, CTRL fixes aspect",
         "arrows",
         "pan"
        ],
        [
         "Zoom",
         "Zoom to rectangle\nx/y fixes axis, CTRL fixes aspect",
         "square-o",
         "zoom"
        ],
        [
         "Download",
         "Download plot",
         "floppy-o",
         "save_figure"
        ]
       ]
      }
     },
     "7cc26af38a2448faae3b8bbd2366dacd": {
      "model_module": "jupyter-matplotlib",
      "model_module_version": "^0.7.4",
      "model_name": "ToolbarModel",
      "state": {
       "layout": "IPY_MODEL_e51ec9dcbe054e9ca791f430cfc1b8e4",
       "toolitems": [
        [
         "Home",
         "Reset original view",
         "home",
         "home"
        ],
        [
         "Back",
         "Back to previous view",
         "arrow-left",
         "back"
        ],
        [
         "Forward",
         "Forward to next view",
         "arrow-right",
         "forward"
        ],
        [
         "Pan",
         "Left button pans, Right button zooms\nx/y fixes axis, CTRL fixes aspect",
         "arrows",
         "pan"
        ],
        [
         "Zoom",
         "Zoom to rectangle\nx/y fixes axis, CTRL fixes aspect",
         "square-o",
         "zoom"
        ],
        [
         "Download",
         "Download plot",
         "floppy-o",
         "save_figure"
        ]
       ]
      }
     },
     "7e5fc4cf23a7464cb306e6d46bd5e92e": {
      "model_module": "@jupyter-widgets/controls",
      "model_module_version": "1.5.0",
      "model_name": "FloatSliderModel",
      "state": {
       "description": "Parameter:",
       "layout": "IPY_MODEL_cbebab0910834e38bbaaabfcbc49ec6b",
       "max": 0.5,
       "min": -1,
       "step": 0.075,
       "style": "IPY_MODEL_f27b380c58164126a11e682177915474",
       "value": -0.25
      }
     },
     "7f55719a0db34e169272ddd0685e6c28": {
      "model_module": "@jupyter-widgets/controls",
      "model_module_version": "1.5.0",
      "model_name": "FloatSliderModel",
      "state": {
       "description": "Parameter:",
       "layout": "IPY_MODEL_b8c338039e2a4c72bc9897d0e330ad92",
       "max": 1.3,
       "min": 0.8,
       "step": 0.025,
       "style": "IPY_MODEL_85c9ec25e06e440fbab0a8fc406d60b7",
       "value": 1.05
      }
     },
     "813c34b3178f4455ba7dd726715d335e": {
      "model_module": "jupyter-matplotlib",
      "model_module_version": "^0.7.4",
      "model_name": "MPLCanvasModel",
      "state": {
       "_cursor": "default",
       "_figure_label": "Figure 9",
       "_height": 300,
       "_image_mode": "diff",
       "_message": "x=8.76 y=0.516",
       "_width": 1000,
       "layout": "IPY_MODEL_c1a02e69819741ab8cdc3c3e3ffdfcbe",
       "toolbar": "IPY_MODEL_b551bea3351f4daaaecbffa948df1714",
       "toolbar_position": "left"
      }
     },
     "836bf70cf07e4f6d891cfc02402d61cf": {
      "model_module": "@jupyter-widgets/base",
      "model_module_version": "1.2.0",
      "model_name": "LayoutModel",
      "state": {}
     },
     "85c9ec25e06e440fbab0a8fc406d60b7": {
      "model_module": "@jupyter-widgets/controls",
      "model_module_version": "1.5.0",
      "model_name": "SliderStyleModel",
      "state": {
       "description_width": ""
      }
     },
     "89debd9b7e694a6b8fa223895074ddf1": {
      "model_module": "@jupyter-widgets/base",
      "model_module_version": "1.2.0",
      "model_name": "LayoutModel",
      "state": {}
     },
     "8aaa1e6376dc47fb8607b9f4a969a9c1": {
      "model_module": "jupyter-matplotlib",
      "model_module_version": "^0.7.4",
      "model_name": "ToolbarModel",
      "state": {
       "layout": "IPY_MODEL_12263d61ba4c463e8293a55f6411050b",
       "toolitems": [
        [
         "Home",
         "Reset original view",
         "home",
         "home"
        ],
        [
         "Back",
         "Back to previous view",
         "arrow-left",
         "back"
        ],
        [
         "Forward",
         "Forward to next view",
         "arrow-right",
         "forward"
        ],
        [
         "Pan",
         "Left button pans, Right button zooms\nx/y fixes axis, CTRL fixes aspect",
         "arrows",
         "pan"
        ],
        [
         "Zoom",
         "Zoom to rectangle\nx/y fixes axis, CTRL fixes aspect",
         "square-o",
         "zoom"
        ],
        [
         "Download",
         "Download plot",
         "floppy-o",
         "save_figure"
        ]
       ]
      }
     },
     "8dff14de760d46a0afc64aa484f13c87": {
      "model_module": "jupyter-matplotlib",
      "model_module_version": "^0.7.4",
      "model_name": "MPLCanvasModel",
      "state": {
       "_cursor": "default",
       "_figure_label": "Figure 5",
       "_height": 300,
       "_image_mode": "diff",
       "_width": 1000,
       "layout": "IPY_MODEL_18e446d0b18f4c90bb8ed7952ee52731",
       "toolbar": "IPY_MODEL_2699adbb1c9d4c01901209b4f3cab1f7",
       "toolbar_position": "left"
      }
     },
     "8e184f2746be4d9881b0d4c1929642ff": {
      "model_module": "jupyter-matplotlib",
      "model_module_version": "^0.7.4",
      "model_name": "ToolbarModel",
      "state": {
       "layout": "IPY_MODEL_46dbc73151674ef395239bc4f8352b2f",
       "toolitems": [
        [
         "Home",
         "Reset original view",
         "home",
         "home"
        ],
        [
         "Back",
         "Back to previous view",
         "arrow-left",
         "back"
        ],
        [
         "Forward",
         "Forward to next view",
         "arrow-right",
         "forward"
        ],
        [
         "Pan",
         "Left button pans, Right button zooms\nx/y fixes axis, CTRL fixes aspect",
         "arrows",
         "pan"
        ],
        [
         "Zoom",
         "Zoom to rectangle\nx/y fixes axis, CTRL fixes aspect",
         "square-o",
         "zoom"
        ],
        [
         "Download",
         "Download plot",
         "floppy-o",
         "save_figure"
        ]
       ]
      }
     },
     "8e3af5f2f384485988faf48963bcde24": {
      "model_module": "@jupyter-widgets/base",
      "model_module_version": "1.2.0",
      "model_name": "LayoutModel",
      "state": {}
     },
     "8e757b83767443769a6b9f2bff914321": {
      "model_module": "jupyter-matplotlib",
      "model_module_version": "^0.7.4",
      "model_name": "MPLCanvasModel",
      "state": {
       "_cursor": "default",
       "_figure_label": "Figure 8",
       "_height": 300,
       "_image_mode": "diff",
       "_width": 350,
       "layout": "IPY_MODEL_836bf70cf07e4f6d891cfc02402d61cf",
       "toolbar": "IPY_MODEL_7cc26af38a2448faae3b8bbd2366dacd",
       "toolbar_position": "left"
      }
     },
     "8f35602f7c33452280f1659580c0ce4e": {
      "model_module": "@jupyter-widgets/base",
      "model_module_version": "1.2.0",
      "model_name": "LayoutModel",
      "state": {}
     },
     "988816fc3be64ef8b49a117171ca8c4e": {
      "model_module": "jupyter-matplotlib",
      "model_module_version": "^0.7.4",
      "model_name": "MPLCanvasModel",
      "state": {
       "_cursor": "default",
       "_figure_label": "Figure 3",
       "_height": 300,
       "_image_mode": "diff",
       "_width": 1000,
       "layout": "IPY_MODEL_a26da2a6f5e54c8f83ee0c81c8008286",
       "toolbar": "IPY_MODEL_edd87acdd5064df0bd683d499062485d",
       "toolbar_position": "left"
      }
     },
     "a26da2a6f5e54c8f83ee0c81c8008286": {
      "model_module": "@jupyter-widgets/base",
      "model_module_version": "1.2.0",
      "model_name": "LayoutModel",
      "state": {}
     },
     "aa60684164fc47a1afa8325cd073fdf6": {
      "model_module": "@jupyter-widgets/controls",
      "model_module_version": "1.5.0",
      "model_name": "FloatSliderModel",
      "state": {
       "description": "Parameter:",
       "layout": "IPY_MODEL_fac61f47c5dc4d10b08fe0f26ca0e885",
       "max": 0.7,
       "min": 0.2,
       "step": 0.024999999999999998,
       "style": "IPY_MODEL_3e1ec1ee07bd40b39ae1b933f3fd98d5",
       "value": 0.44999999999999996
      }
     },
     "abc7fe07aed9493db6aebfdd70827614": {
      "model_module": "@jupyter-widgets/controls",
      "model_module_version": "1.5.0",
      "model_name": "SliderStyleModel",
      "state": {
       "description_width": ""
      }
     },
     "ae7abca5207044ddb5ac88ae69df356a": {
      "model_module": "@jupyter-widgets/controls",
      "model_module_version": "1.5.0",
      "model_name": "FloatSliderModel",
      "state": {
       "description": "Parameter:",
       "layout": "IPY_MODEL_35e8b65a30c34420ab8c804d2cc21e01",
       "max": 0.7,
       "min": 0.2,
       "step": 0.024999999999999998,
       "style": "IPY_MODEL_d79bba99670145988585d5ed5ad66232",
       "value": 0.44999999999999996
      }
     },
     "b551bea3351f4daaaecbffa948df1714": {
      "model_module": "jupyter-matplotlib",
      "model_module_version": "^0.7.4",
      "model_name": "ToolbarModel",
      "state": {
       "layout": "IPY_MODEL_dda0a94564d043429e7973f83fa522a3",
       "toolitems": [
        [
         "Home",
         "Reset original view",
         "home",
         "home"
        ],
        [
         "Back",
         "Back to previous view",
         "arrow-left",
         "back"
        ],
        [
         "Forward",
         "Forward to next view",
         "arrow-right",
         "forward"
        ],
        [
         "Pan",
         "Left button pans, Right button zooms\nx/y fixes axis, CTRL fixes aspect",
         "arrows",
         "pan"
        ],
        [
         "Zoom",
         "Zoom to rectangle\nx/y fixes axis, CTRL fixes aspect",
         "square-o",
         "zoom"
        ],
        [
         "Download",
         "Download plot",
         "floppy-o",
         "save_figure"
        ]
       ]
      }
     },
     "b57093a642aa4e96b46f596c1c11bf33": {
      "model_module": "@jupyter-widgets/base",
      "model_module_version": "1.2.0",
      "model_name": "LayoutModel",
      "state": {}
     },
     "b61f0e73c0d4488a89e6feb7ee686003": {
      "model_module": "@jupyter-widgets/controls",
      "model_module_version": "1.5.0",
      "model_name": "FloatSliderModel",
      "state": {
       "description": "Parameter:",
       "layout": "IPY_MODEL_6d499125833b4e64a7c6be62f41bb95e",
       "max": 1.3,
       "min": 0.8,
       "step": 0.025,
       "style": "IPY_MODEL_abc7fe07aed9493db6aebfdd70827614",
       "value": 1.05
      }
     },
     "b75e5c33465b42068a1ebddadc9d5b7c": {
      "model_module": "@jupyter-widgets/output",
      "model_module_version": "1.0.0",
      "model_name": "OutputModel",
      "state": {
       "layout": "IPY_MODEL_6b5580d970394bfe84da3ae3c9b7b486"
      }
     },
     "b8c338039e2a4c72bc9897d0e330ad92": {
      "model_module": "@jupyter-widgets/base",
      "model_module_version": "1.2.0",
      "model_name": "LayoutModel",
      "state": {}
     },
     "bb16047b415d4c7abde874767f5e10ed": {
      "model_module": "@jupyter-widgets/base",
      "model_module_version": "1.2.0",
      "model_name": "LayoutModel",
      "state": {}
     },
     "be006af2a1d1426893489b581b04fffe": {
      "model_module": "@jupyter-widgets/controls",
      "model_module_version": "1.5.0",
      "model_name": "VBoxModel",
      "state": {
       "_dom_classes": [
        "widget-interact"
       ],
       "children": [
        "IPY_MODEL_7f55719a0db34e169272ddd0685e6c28",
        "IPY_MODEL_4a1e0c77716549c9ab236f2e34b0d0cb"
       ],
       "layout": "IPY_MODEL_094d12ca46eb4cfc91e97ab59a12f1a4"
      }
     },
     "c16b433f796d4527b4e08b235f5bd533": {
      "model_module": "@jupyter-widgets/base",
      "model_module_version": "1.2.0",
      "model_name": "LayoutModel",
      "state": {}
     },
     "c1a02e69819741ab8cdc3c3e3ffdfcbe": {
      "model_module": "@jupyter-widgets/base",
      "model_module_version": "1.2.0",
      "model_name": "LayoutModel",
      "state": {}
     },
     "c420fc3fc4a642298fdfb3f30cc52262": {
      "model_module": "@jupyter-widgets/base",
      "model_module_version": "1.2.0",
      "model_name": "LayoutModel",
      "state": {}
     },
     "c4a4980b11cd4bfdbe96f4417d5a7c33": {
      "model_module": "@jupyter-widgets/controls",
      "model_module_version": "1.5.0",
      "model_name": "VBoxModel",
      "state": {
       "_dom_classes": [
        "widget-interact"
       ],
       "children": [
        "IPY_MODEL_ae7abca5207044ddb5ac88ae69df356a",
        "IPY_MODEL_b75e5c33465b42068a1ebddadc9d5b7c"
       ],
       "layout": "IPY_MODEL_27a30370e86f47c59e2f1d8d407ef175"
      }
     },
     "c744c06a3b3740d9aa44a690b180b568": {
      "model_module": "@jupyter-widgets/base",
      "model_module_version": "1.2.0",
      "model_name": "LayoutModel",
      "state": {}
     },
     "cbebab0910834e38bbaaabfcbc49ec6b": {
      "model_module": "@jupyter-widgets/base",
      "model_module_version": "1.2.0",
      "model_name": "LayoutModel",
      "state": {}
     },
     "d3be93bf8deb4664b786ce4e76f8a390": {
      "model_module": "jupyter-matplotlib",
      "model_module_version": "^0.7.4",
      "model_name": "MPLCanvasModel",
      "state": {
       "_cursor": "default",
       "_figure_label": "Figure 4",
       "_height": 300,
       "_image_mode": "diff",
       "_width": 350,
       "layout": "IPY_MODEL_e91b254bfea549deb2c5dd1cdde8a6fb",
       "toolbar": "IPY_MODEL_7c93fc3d8d4a40cfa6c1375da3d1ffae",
       "toolbar_position": "left"
      }
     },
     "d7262fd522944e02beed5272eb735332": {
      "model_module": "@jupyter-widgets/base",
      "model_module_version": "1.2.0",
      "model_name": "LayoutModel",
      "state": {}
     },
     "d7345cdcac164951b86228b6f58d9355": {
      "model_module": "@jupyter-widgets/controls",
      "model_module_version": "1.5.0",
      "model_name": "VBoxModel",
      "state": {
       "_dom_classes": [
        "widget-interact"
       ],
       "children": [
        "IPY_MODEL_5affa48dbd3c4a67a35cfc9d7c121de7",
        "IPY_MODEL_5d2f1d46afa34eed8552bc812945551b"
       ],
       "layout": "IPY_MODEL_c16b433f796d4527b4e08b235f5bd533"
      }
     },
     "d79bba99670145988585d5ed5ad66232": {
      "model_module": "@jupyter-widgets/controls",
      "model_module_version": "1.5.0",
      "model_name": "SliderStyleModel",
      "state": {
       "description_width": ""
      }
     },
     "dda0a94564d043429e7973f83fa522a3": {
      "model_module": "@jupyter-widgets/base",
      "model_module_version": "1.2.0",
      "model_name": "LayoutModel",
      "state": {}
     },
     "e51ec9dcbe054e9ca791f430cfc1b8e4": {
      "model_module": "@jupyter-widgets/base",
      "model_module_version": "1.2.0",
      "model_name": "LayoutModel",
      "state": {}
     },
     "e91b254bfea549deb2c5dd1cdde8a6fb": {
      "model_module": "@jupyter-widgets/base",
      "model_module_version": "1.2.0",
      "model_name": "LayoutModel",
      "state": {}
     },
     "edd87acdd5064df0bd683d499062485d": {
      "model_module": "jupyter-matplotlib",
      "model_module_version": "^0.7.4",
      "model_name": "ToolbarModel",
      "state": {
       "layout": "IPY_MODEL_4a4b2ea0868b417482decc95c2587718",
       "toolitems": [
        [
         "Home",
         "Reset original view",
         "home",
         "home"
        ],
        [
         "Back",
         "Back to previous view",
         "arrow-left",
         "back"
        ],
        [
         "Forward",
         "Forward to next view",
         "arrow-right",
         "forward"
        ],
        [
         "Pan",
         "Left button pans, Right button zooms\nx/y fixes axis, CTRL fixes aspect",
         "arrows",
         "pan"
        ],
        [
         "Zoom",
         "Zoom to rectangle\nx/y fixes axis, CTRL fixes aspect",
         "square-o",
         "zoom"
        ],
        [
         "Download",
         "Download plot",
         "floppy-o",
         "save_figure"
        ]
       ]
      }
     },
     "f27b380c58164126a11e682177915474": {
      "model_module": "@jupyter-widgets/controls",
      "model_module_version": "1.5.0",
      "model_name": "SliderStyleModel",
      "state": {
       "description_width": ""
      }
     },
     "f3c8a64b730a47a8a80c60b01815c351": {
      "model_module": "@jupyter-widgets/base",
      "model_module_version": "1.2.0",
      "model_name": "LayoutModel",
      "state": {}
     },
     "f44d0eebf2d54d8a95960195a820d974": {
      "model_module": "@jupyter-widgets/base",
      "model_module_version": "1.2.0",
      "model_name": "LayoutModel",
      "state": {}
     },
     "f7311bc450ed4b728c7d25fecbd7e6e8": {
      "model_module": "jupyter-matplotlib",
      "model_module_version": "^0.7.4",
      "model_name": "MPLCanvasModel",
      "state": {
       "_cursor": "default",
       "_figure_label": "Figure 1",
       "_height": 300,
       "_image_mode": "diff",
       "_width": 1000,
       "layout": "IPY_MODEL_c744c06a3b3740d9aa44a690b180b568",
       "toolbar": "IPY_MODEL_7c01b1630ced4a03b87afe6b955ca9a0",
       "toolbar_position": "left"
      }
     },
     "f7dbb1ef510043a7b4381bed6e5aaaea": {
      "model_module": "@jupyter-widgets/base",
      "model_module_version": "1.2.0",
      "model_name": "LayoutModel",
      "state": {}
     },
     "fac61f47c5dc4d10b08fe0f26ca0e885": {
      "model_module": "@jupyter-widgets/base",
      "model_module_version": "1.2.0",
      "model_name": "LayoutModel",
      "state": {}
     }
    },
    "version_major": 2,
    "version_minor": 0
   }
  }
 },
 "nbformat": 4,
 "nbformat_minor": 4
}
