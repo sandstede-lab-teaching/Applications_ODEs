{
 "cells": [
  {
   "cell_type": "markdown",
   "metadata": {},
   "source": [
    "### Chaotic dynamical systems\n",
    "This notebook illustrates two ordinary differential equations that exhibit chaotic behavior."
   ]
  },
  {
   "cell_type": "code",
   "execution_count": 1,
   "metadata": {},
   "outputs": [],
   "source": [
    "%matplotlib widget\n",
    "import numpy as np\n",
    "import matplotlib.pyplot as plt\n",
    "import matplotlib.colors as colors\n",
    "from scipy.integrate import solve_ivp\n",
    "\n",
    "def lorenz(t, u, *pars):\n",
    "    sigma = pars[0]\n",
    "    rho = pars[1]\n",
    "    beta = pars[2]\n",
    "    f = [ sigma*(u[1]-u[0]), rho*u[0]-u[1]-u[0]*u[2], u[0]*u[1]-beta*u[2] ]\n",
    "    return f\n",
    "\n",
    "def roessler(t, u, *pars):\n",
    "    a = pars[0]\n",
    "    b = pars[1]\n",
    "    c = pars[2]\n",
    "    f = [ -u[1]-u[2], u[0]+a*u[1], b-c*u[2]+u[0]*u[2] ]\n",
    "    return f"
   ]
  },
  {
   "cell_type": "markdown",
   "metadata": {},
   "source": [
    "#### Lorenz system\n",
    "The Lorenz system is given by\n",
    "$$\n",
    "\\begin{align}\n",
    "\\dot{x} & = \\sigma (y-x) \\\\\n",
    "\\dot{y} & = \\rho x - y - xz \\\\\n",
    "\\dot{z} & = bxy - \\beta z\n",
    "\\end{align}\n",
    "$$\n",
    "where $(\\sigma,\\rho,\\beta)=(10, 28, 8/3)$ will result in chaotic dynamics."
   ]
  },
  {
   "cell_type": "code",
   "execution_count": 2,
   "metadata": {},
   "outputs": [
    {
     "data": {
      "application/vnd.jupyter.widget-view+json": {
       "model_id": "c0f21d33ea8a4d87a71376349d9241b2",
       "version_major": 2,
       "version_minor": 0
      },
      "text/plain": [
       "Canvas(toolbar=Toolbar(toolitems=[('Home', 'Reset original view', 'home', 'home'), ('Back', 'Back to previous …"
      ]
     },
     "metadata": {},
     "output_type": "display_data"
    }
   ],
   "source": [
    "sigma = 10\n",
    "rho = 28\n",
    "beta = 8/3\n",
    "\n",
    "u0 = [2, 8, 23.5]\n",
    "T = 100\n",
    "N = 10\n",
    "\n",
    "pars = (sigma, rho, beta)\n",
    "t = np.linspace(0, T, int(100*T))\n",
    "\n",
    "fig = plt.figure(figsize=(8,8))\n",
    "ax = fig.add_subplot(111, projection='3d')\n",
    "plt.rcParams[\"axes.prop_cycle\"] = plt.cycler(\"color\", plt.cm.viridis(np.linspace(1,0,N)))\n",
    "for n in range(N):\n",
    "    u0 = [2, 8, 23.5] + np.random.uniform(-0.5, 0.5, 3)\n",
    "    soln = solve_ivp(lorenz, [0, T], u0, t_eval=t, args=pars)\n",
    "    ax.plot(soln.y[0], soln.y[1], soln.y[2], linewidth=0.5, alpha=0.4)\n",
    "ax.set_title('Lorenz system')\n",
    "ax.set_xlabel('x')\n",
    "ax.set_ylabel('y')\n",
    "ax.set_zlabel('z')\n",
    "plt.show()"
   ]
  },
  {
   "cell_type": "markdown",
   "metadata": {},
   "source": [
    "Solutions to the Lorenz system in the chaotic regime depend very sensitively on the initial data. The simulation below shows graphs of the x-components of two solutions for the same parameter values whose initial conditions differ by 0.0001."
   ]
  },
  {
   "cell_type": "code",
   "execution_count": 3,
   "metadata": {},
   "outputs": [
    {
     "data": {
      "application/vnd.jupyter.widget-view+json": {
       "model_id": "c3524e9e77de43e096d75c9a03f5b06d",
       "version_major": 2,
       "version_minor": 0
      },
      "text/plain": [
       "Canvas(toolbar=Toolbar(toolitems=[('Home', 'Reset original view', 'home', 'home'), ('Back', 'Back to previous …"
      ]
     },
     "metadata": {},
     "output_type": "display_data"
    }
   ],
   "source": [
    "T = 40\n",
    "u1 = np.array([2, 8, 23.5])\n",
    "u2 = u1 + np.array([0.0001, 0, 0])\n",
    "\n",
    "pars = (10, 28, 8/3)\n",
    "t = np.linspace(0, T, int(100*T))\n",
    "\n",
    "fig = plt.figure(figsize=(8,4))\n",
    "ax = fig.add_subplot(111)\n",
    "soln = solve_ivp(lorenz, [0, T], u1, t_eval=t, args=pars)\n",
    "ax.plot(soln.t, soln.y[0], linewidth=0.5, color=\"tab:blue\")\n",
    "soln = solve_ivp(lorenz, [0, T], u2, t_eval=t, args=pars)\n",
    "ax.plot(soln.t, soln.y[0], linewidth=0.5, color=\"tab:red\")\n",
    "ax.set_title('Lorenz system: Sensitive dependence on initial data')\n",
    "ax.set_xlabel('t')\n",
    "ax.set_ylabel('x')\n",
    "plt.show()"
   ]
  },
  {
   "cell_type": "markdown",
   "metadata": {},
   "source": [
    "#### Rössler system\n",
    "The Rössler system is given by\n",
    "$$\n",
    "\\begin{align}\n",
    "\\dot{x} & = -y-z \\\\\n",
    "\\dot{y} & = x+ay \\\\\n",
    "\\dot{z} & = b-cz+xz\n",
    "\\end{align}\n",
    "$$\n",
    "with $a,b=0.1$, where $c$ varies between 4 and 10."
   ]
  },
  {
   "cell_type": "code",
   "execution_count": 72,
   "metadata": {},
   "outputs": [
    {
     "data": {
      "application/vnd.jupyter.widget-view+json": {
       "model_id": "ed0e704c05204d87b12ed536ae92b55f",
       "version_major": 2,
       "version_minor": 0
      },
      "text/plain": [
       "Canvas(toolbar=Toolbar(toolitems=[('Home', 'Reset original view', 'home', 'home'), ('Back', 'Back to previous …"
      ]
     },
     "metadata": {},
     "output_type": "display_data"
    }
   ],
   "source": [
    "a = 0.1\n",
    "b = 0.1\n",
    "c = 9\n",
    "\n",
    "u0 = [1, 1, 1]\n",
    "T = 300\n",
    "N = 10\n",
    "\n",
    "pars = (a, b, c)\n",
    "t = np.linspace(0, T, int(100*T))\n",
    "\n",
    "fig = plt.figure(figsize=(8,8))\n",
    "ax = fig.add_subplot(111, projection='3d')\n",
    "plt.rcParams[\"axes.prop_cycle\"] = plt.cycler(\"color\", plt.cm.plasma(np.linspace(0,1,N)))\n",
    "soln = solve_ivp(roessler, [0, 5000], u0, args=pars)\n",
    "u0 = soln.y[0:3,-1]\n",
    "for n in range(N):\n",
    "    u1 = u0 + np.random.uniform(-0.01, 0.01, 3)\n",
    "    soln = solve_ivp(roessler, [0, T], u1, t_eval=t, args=pars)\n",
    "    ax.plot(soln.y[0], soln.y[1], soln.y[2], linewidth=0.5, alpha=0.25)\n",
    "ax.set_title('Rössler system')\n",
    "ax.set_xlabel('x')\n",
    "ax.set_ylabel('y')\n",
    "ax.set_zlabel('z')\n",
    "plt.show()"
   ]
  },
  {
   "cell_type": "markdown",
   "metadata": {},
   "source": [
    "As the parameter c increases from 4 to 9, the Rössler system exhibits a period-doubling cascade that ultimates generates chaotic attaractors for sufficiently large values of c. We visualize these bifurcations by plotting x(t) for values of t where y(t) crosses through 0 as a function of the parameter c. For c close to 4, there is just one such value attained by the solution, so the solution winds around once; as c increases, subsequent period-doubling bifurcations are encountered near c=5.4 and c=7.8. "
   ]
  },
  {
   "cell_type": "code",
   "execution_count": 73,
   "metadata": {},
   "outputs": [
    {
     "data": {
      "application/vnd.jupyter.widget-view+json": {
       "model_id": "1675fa6f68d0400bb1a6ae560f1fbcc3",
       "version_major": 2,
       "version_minor": 0
      },
      "text/plain": [
       "Canvas(toolbar=Toolbar(toolitems=[('Home', 'Reset original view', 'home', 'home'), ('Back', 'Back to previous …"
      ]
     },
     "metadata": {},
     "output_type": "display_data"
    }
   ],
   "source": [
    "u0 = [1,1,1]\n",
    "c = np.arange(4, 10, 0.05)\n",
    "pars = [0.1, 0.1, c[0]]\n",
    "T = 200\n",
    "\n",
    "def cross_section(t, y, *pars): return y[1]\n",
    "cross_section.direction = 1\n",
    "\n",
    "fig = plt.figure(figsize=(8,4))\n",
    "ax = fig.add_subplot(111)\n",
    "soln = solve_ivp(roessler, [0, 4000], u0, args=pars)\n",
    "for cvalue in c:\n",
    "    pars[2] = cvalue\n",
    "    soln = solve_ivp(roessler, [0, 500], soln.y[0:3,-1], args=pars)\n",
    "    soln = solve_ivp(roessler, [0, T], soln.y[0:3,-1], args=pars, events=cross_section, rtol=1.0e-8)\n",
    "    ax.scatter(cvalue+0*soln.y_events[0][:,0], soln.y_events[0][:,0], s=2, color=\"tab:blue\")\n",
    "ax.set_title('Rössler system: Bifurcation diagram')\n",
    "ax.set_xlabel('c')\n",
    "ax.set_ylabel('x @y=0')\n",
    "plt.show()"
   ]
  },
  {
   "cell_type": "code",
   "execution_count": 83,
   "metadata": {},
   "outputs": [
    {
     "data": {
      "application/vnd.jupyter.widget-view+json": {
       "model_id": "dbe17cbe555447028b10977ba430faa9",
       "version_major": 2,
       "version_minor": 0
      },
      "text/plain": [
       "Canvas(toolbar=Toolbar(toolitems=[('Home', 'Reset original view', 'home', 'home'), ('Back', 'Back to previous …"
      ]
     },
     "metadata": {},
     "output_type": "display_data"
    }
   ],
   "source": [
    "u0 = [1,1,1]\n",
    "c = [4.5, 7, 8.2]\n",
    "pars = [0.1, 0.1, c[0]]\n",
    "T = 35\n",
    "\n",
    "fig = plt.figure(figsize=(8,4))\n",
    "ax = fig.add_subplot(111)\n",
    "plt.rcParams[\"axes.prop_cycle\"] = plt.cycler(\"color\", plt.cm.tab10(np.linspace(0,1,10)))\n",
    "soln = solve_ivp(roessler, [0, 1], u0, args=pars)\n",
    "for cvalue in c:\n",
    "    pars[2] = cvalue\n",
    "    soln = solve_ivp(roessler, [0, 4000], soln.y[0:3,-1], args=pars)\n",
    "    soln = solve_ivp(roessler, [0, T], soln.y[0:3,-1], args=pars, rtol=1.0e-8)\n",
    "    ax.plot(soln.t, soln.y[0], linewidth=2)\n",
    "ax.set_title('Rössler system: Periodic solutions')\n",
    "ax.set_xlabel('t')\n",
    "ax.set_ylabel('x')\n",
    "plt.show()"
   ]
  },
  {
   "cell_type": "code",
   "execution_count": null,
   "metadata": {},
   "outputs": [],
   "source": []
  }
 ],
 "metadata": {
  "kernelspec": {
   "display_name": "Python 3",
   "language": "python",
   "name": "python3"
  },
  "language_info": {
   "codemirror_mode": {
    "name": "ipython",
    "version": 3
   },
   "file_extension": ".py",
   "mimetype": "text/x-python",
   "name": "python",
   "nbconvert_exporter": "python",
   "pygments_lexer": "ipython3",
   "version": "3.7.7"
  },
  "pycharm": {
   "stem_cell": {
    "cell_type": "raw",
    "metadata": {
     "collapsed": false
    },
    "source": []
   }
  },
  "widgets": {
   "application/vnd.jupyter.widget-state+json": {
    "state": {},
    "version_major": 2,
    "version_minor": 0
   }
  }
 },
 "nbformat": 4,
 "nbformat_minor": 4
}
