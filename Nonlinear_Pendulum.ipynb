{
 "cells": [
  {
   "cell_type": "markdown",
   "metadata": {},
   "source": [
    "### Nonlinear pendulum\n",
    "This notebook illustrates the dynamics of a nonlinear pendulum by connecting the phase portrait of a nonlinear model of a pendulum with the motion of a physical pendulum. The next cell contains the code for solving and visualizing solutions of the pendulum model.  "
   ]
  },
  {
   "cell_type": "code",
   "execution_count": 3,
   "metadata": {
    "jupyter": {
     "source_hidden": true
    }
   },
   "outputs": [],
   "source": [
    "%matplotlib widget\n",
    "import numpy as np\n",
    "import matplotlib.pyplot as plt\n",
    "import matplotlib.animation as animation\n",
    "from matplotlib.backend_bases import MouseButton\n",
    "from scipy.integrate import solve_ivp\n",
    "from scipy.optimize import fsolve\n",
    "\n",
    "toggle = False # if false, solve ODE; if true, find equilibria\n",
    "labels = [0, 1]\n",
    "    \n",
    "def generate_phase_portrait(f, pars, Nframes=200, yrange=[-3.5, 3.5]):\n",
    "    xrange = [-4, 4]\n",
    "    Neval = 10\n",
    "    T = 0.1*Nframes\n",
    "    \n",
    "    fig, ax = plt.subplots(1,2,figsize=(8,4))\n",
    "    plt.subplots_adjust(bottom=0.2)\n",
    "\n",
    "    button = plt.axes([0.15, 0.0, 0.26, 0.05])   # [left, bottom, width, height]\n",
    "    labels[0] = button.text(0.05, 0.3, \"Click here to find equilibria\", fontsize=10)\n",
    "    labels[1] = button.text(0.10, 0.3, \"Click here to solve ODE\", fontsize=10)\n",
    "    labels[0].set_visible(True)\n",
    "    labels[1].set_visible(False)\n",
    "    button.set(xticks=[], yticks=[])\n",
    "    button.set_facecolor('tab:green')\n",
    "\n",
    "    ax[0].set_title(\"Phase portrait\")\n",
    "    ax[0].set_xlabel('angle')\n",
    "    ax[0].set_ylabel('angular velocity')\n",
    "    ax[0].set_xlim(xrange)\n",
    "    ax[0].set_ylim(yrange)\n",
    "    ax[0].grid(True)\n",
    "    line1, = ax[0].plot([], [], linewidth=2, color=\"tab:purple\", zorder=2)\n",
    "    line2, = ax[0].plot([], [], 'o', markersize=7.5, color=\"tab:purple\", zorder=2)\n",
    "    plotdf(f, pars, xrange, yrange, [11, 11], ax[0])\n",
    "    \n",
    "    ax[1].set_title(\"Pendulum\")\n",
    "    ax[1].axis([-1.2, 1.2, -1.2, 1.2])\n",
    "    ax[1].set_aspect('equal')\n",
    "    line3, = ax[1].plot([], [], linewidth=4, color=\"tab:blue\")\n",
    "    line4, = ax[1].plot([], [], 'o', markersize=10, color=\"tab:red\")\n",
    "\n",
    "    def on_click(event):\n",
    "        global toggle, labels\n",
    "        if event.button is MouseButton.LEFT:\n",
    "            if event.inaxes == button:\n",
    "                labels[toggle].set_visible(False)\n",
    "                toggle = not toggle\n",
    "                labels[toggle].set_visible(True)\n",
    "            if event.inaxes == ax[0]:\n",
    "                x = event.xdata\n",
    "                y = event.ydata\n",
    "                if x>xrange[0] and x<xrange[1] and y>yrange[0] and y<yrange[1]:\n",
    "                    if toggle:\n",
    "                        equilibrium = fsolve(lambda x: f(0, x, pars), [x, y])\n",
    "                        ax[0].scatter(equilibrium[0], equilibrium[1], s=70, color='tab:red', zorder=2)\n",
    "                        point = [np.sin(equilibrium[0]), -np.cos(equilibrium[0])]\n",
    "                        line3.set_data([0, point[0]], [0, point[1]])\n",
    "                        line4.set_data(point[0], point[1])\n",
    "                        fig.canvas.draw()\n",
    "                    else:\n",
    "                        sol = solve_ivp(pendulum, [0, T], [x, y], t_eval=np.linspace(0, T, Neval*Nframes),\n",
    "                                        args=[pars], atol=1.e-8, rtol=1.e-6)\n",
    "                        ani = animation.FuncAnimation(fig, update_graph, frames=range(1, Nframes),\n",
    "                                        fargs=(sol.y, Nframes, Neval, ax[0], line1, line2, line3, line4),\n",
    "                                        interval=50, repeat=False)\n",
    "                        fig.canvas.draw()\n",
    " \n",
    "    plt.connect('button_press_event', on_click)\n",
    "\n",
    "def update_graph(k, u, Nframes, N, ax, line1, line2, line3, line4):\n",
    "    soln = convert2circle(u[:, :k*N])\n",
    "    line1.set_data(soln[0, :], soln[1, :])\n",
    "    line2.set_data(soln[0, -1], soln[1, -1])\n",
    "    point = [np.sin(soln[0, -1]), -np.cos(soln[0, -1])]\n",
    "    line3.set_data([0, point[0]], [0, point[1]])\n",
    "    line4.set_data(point[0], point[1])\n",
    "    if k==Nframes-1:\n",
    "        ax.plot(soln[0,:], soln[1,:], linewidth=2, color=\"tab:green\", zorder=1)\n",
    "\n",
    "def convert2circle(u):\n",
    "    u[0,:] = np.mod(u[0,:]+np.pi, 2*np.pi) - np.pi\n",
    "    jumps = abs(np.diff(u[0,:]))\n",
    "    ind = 1+np.where(jumps > np.pi)[0]\n",
    "    return np.insert(u, ind, np.NaN, axis=1)\n",
    "        \n",
    "def plotdf(rhs, pars, xrange, yrange, grid, ax):\n",
    "    x = np.linspace(xrange[0], xrange[1], grid[0])\n",
    "    y = np.linspace(yrange[0], yrange[1], grid[1])\n",
    "    X, Y = np.meshgrid(x, y)\n",
    "    DX, DY = rhs(0, [X, Y], pars)\n",
    "    M = (np.hypot(DX, DY))\n",
    "    M[M==0] = 1.0\n",
    "    DX = DX/M\n",
    "    DY = DY/M\n",
    "    ax.quiver(X, Y, DX, DY, color='tab:gray', angles='xy', alpha=0.5)"
   ]
  },
  {
   "cell_type": "markdown",
   "metadata": {},
   "source": [
    "We model a pendulum subjected to damping and a constant gravitational force using the second-order differential equation $$\\frac{d^2\\theta}{dt^2}+d\\frac{d\\theta}{dt}=-\\sin\\theta,$$ where $\\theta$ is the angle between a vertical axis and the pendulum, and $d$ is the damping coefficient. Rewriting this equation as a first-order system, we obtain\n",
    "$$\n",
    "\\begin{align}\n",
    "\\frac{d\\theta}{dt} & = v \\\\\n",
    "\\frac{dv}{dt} & = - dv - \\sin\\theta,\n",
    "\\end{align}\n",
    "$$\n",
    "where $v$ is the angular velocity of the pendulum. Running the next cell will create the phase portrait of this model and an illustration of a physical pendulum. Clicking with the mouse in the phase portrait will simulate the pendulum motion starting with the initial condition selected by the mouse click."
   ]
  },
  {
   "cell_type": "code",
   "execution_count": 4,
   "metadata": {},
   "outputs": [
    {
     "data": {
      "application/vnd.jupyter.widget-view+json": {
       "model_id": "80ac440fe5494282b104bbf8a8512bc0",
       "version_major": 2,
       "version_minor": 0
      },
      "text/plain": [
       "Canvas(toolbar=Toolbar(toolitems=[('Home', 'Reset original view', 'home', 'home'), ('Back', 'Back to previous …"
      ]
     },
     "metadata": {},
     "output_type": "display_data"
    }
   ],
   "source": [
    "def pendulum(t, u, damping):\n",
    "    return [u[1], -damping*u[1] - np.sin(u[0])]\n",
    "\n",
    "damping = 0.0\n",
    "generate_phase_portrait(pendulum, damping, Nframes=150)"
   ]
  },
  {
   "cell_type": "code",
   "execution_count": null,
   "metadata": {},
   "outputs": [],
   "source": []
  }
 ],
 "metadata": {
  "celltoolbar": "Tags",
  "kernelspec": {
   "display_name": "Python 3",
   "language": "python",
   "name": "python3"
  },
  "language_info": {
   "codemirror_mode": {
    "name": "ipython",
    "version": 3
   },
   "file_extension": ".py",
   "mimetype": "text/x-python",
   "name": "python",
   "nbconvert_exporter": "python",
   "pygments_lexer": "ipython3",
   "version": "3.7.9"
  },
  "widgets": {
   "application/vnd.jupyter.widget-state+json": {
    "state": {
     "099aa21c8f834bf4aeeecd618872027f": {
      "model_module": "@jupyter-widgets/base",
      "model_module_version": "1.2.0",
      "model_name": "LayoutModel",
      "state": {}
     },
     "80ac440fe5494282b104bbf8a8512bc0": {
      "model_module": "jupyter-matplotlib",
      "model_module_version": "^0.7.4",
      "model_name": "MPLCanvasModel",
      "state": {
       "_cursor": "default",
       "_figure_label": "Figure 1",
       "_height": 400,
       "_image_mode": "diff",
       "_width": 800,
       "layout": "IPY_MODEL_099aa21c8f834bf4aeeecd618872027f",
       "toolbar": "IPY_MODEL_e4c97249e6cc4d16b04660fa280b2918",
       "toolbar_position": "left"
      }
     },
     "974e55eca1ec4c3e9f14ffadc666aa14": {
      "model_module": "@jupyter-widgets/base",
      "model_module_version": "1.2.0",
      "model_name": "LayoutModel",
      "state": {}
     },
     "a05dbc92d03940b7b02932ce1ae2e7bd": {
      "model_module": "jupyter-matplotlib",
      "model_module_version": "^0.7.4",
      "model_name": "ToolbarModel",
      "state": {
       "layout": "IPY_MODEL_aa3202dd34e14933937ae7b59e15ff69",
       "toolitems": [
        [
         "Home",
         "Reset original view",
         "home",
         "home"
        ],
        [
         "Back",
         "Back to previous view",
         "arrow-left",
         "back"
        ],
        [
         "Forward",
         "Forward to next view",
         "arrow-right",
         "forward"
        ],
        [
         "Pan",
         "Left button pans, Right button zooms\nx/y fixes axis, CTRL fixes aspect",
         "arrows",
         "pan"
        ],
        [
         "Zoom",
         "Zoom to rectangle\nx/y fixes axis, CTRL fixes aspect",
         "square-o",
         "zoom"
        ],
        [
         "Download",
         "Download plot",
         "floppy-o",
         "save_figure"
        ]
       ]
      }
     },
     "aa3202dd34e14933937ae7b59e15ff69": {
      "model_module": "@jupyter-widgets/base",
      "model_module_version": "1.2.0",
      "model_name": "LayoutModel",
      "state": {}
     },
     "e4c97249e6cc4d16b04660fa280b2918": {
      "model_module": "jupyter-matplotlib",
      "model_module_version": "^0.7.4",
      "model_name": "ToolbarModel",
      "state": {
       "layout": "IPY_MODEL_f318696b4e014d92a96143aba755661e",
       "toolitems": [
        [
         "Home",
         "Reset original view",
         "home",
         "home"
        ],
        [
         "Back",
         "Back to previous view",
         "arrow-left",
         "back"
        ],
        [
         "Forward",
         "Forward to next view",
         "arrow-right",
         "forward"
        ],
        [
         "Pan",
         "Left button pans, Right button zooms\nx/y fixes axis, CTRL fixes aspect",
         "arrows",
         "pan"
        ],
        [
         "Zoom",
         "Zoom to rectangle\nx/y fixes axis, CTRL fixes aspect",
         "square-o",
         "zoom"
        ],
        [
         "Download",
         "Download plot",
         "floppy-o",
         "save_figure"
        ]
       ]
      }
     },
     "f318696b4e014d92a96143aba755661e": {
      "model_module": "@jupyter-widgets/base",
      "model_module_version": "1.2.0",
      "model_name": "LayoutModel",
      "state": {}
     }
    },
    "version_major": 2,
    "version_minor": 0
   }
  }
 },
 "nbformat": 4,
 "nbformat_minor": 4
}
