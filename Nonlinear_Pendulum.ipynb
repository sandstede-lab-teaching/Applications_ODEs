{
 "cells": [
  {
   "cell_type": "code",
   "execution_count": 1,
   "metadata": {},
   "outputs": [],
   "source": [
    "%matplotlib widget\n",
    "import numpy as np\n",
    "import matplotlib.pyplot as plt\n",
    "import matplotlib.animation as animation\n",
    "from matplotlib.backend_bases import MouseButton\n",
    "from scipy.integrate import solve_ivp\n",
    "from scipy.optimize import fsolve"
   ]
  },
  {
   "cell_type": "code",
   "execution_count": 2,
   "metadata": {},
   "outputs": [],
   "source": [
    "toggle = False # if false, solve ODE; if true, find equilibria\n",
    "labels = [0, 1]\n",
    "    \n",
    "def generate_phase_portrait(f, pars, Nframes=200, yrange=[-3.5, 3.5]):\n",
    "    xrange = [-4, 4]\n",
    "    Neval = 10\n",
    "    T = 0.1*Nframes\n",
    "    \n",
    "    fig, ax = plt.subplots(1,2,figsize=(8,4))\n",
    "    plt.subplots_adjust(bottom=0.2)\n",
    "\n",
    "    button = plt.axes([0.15, 0.0, 0.26, 0.05])   # [left, bottom, width, height]\n",
    "    labels[0] = button.text(0.05, 0.3, \"Click here to find equilibria\", fontsize=10)\n",
    "    labels[1] = button.text(0.10, 0.3, \"Click here to solve ODE\", fontsize=10)\n",
    "    labels[0].set_visible(True)\n",
    "    labels[1].set_visible(False)\n",
    "    button.set(xticks=[], yticks=[])\n",
    "    button.set_facecolor('tab:green')\n",
    "\n",
    "    ax[0].set_title(\"Phase portrait\")\n",
    "    ax[0].set_xlabel('angle')\n",
    "    ax[0].set_ylabel('angular velocity')\n",
    "    ax[0].set_xlim(xrange)\n",
    "    ax[0].set_ylim(yrange)\n",
    "    ax[0].grid(True)\n",
    "    line1, = ax[0].plot([], [], linewidth=2, color=\"tab:purple\", zorder=2)\n",
    "    line2, = ax[0].plot([], [], 'o', markersize=7.5, color=\"tab:purple\", zorder=2)\n",
    "    plotdf(f, pars, xrange, yrange, [11, 11], ax[0])\n",
    "    \n",
    "    ax[1].set_title(\"Pendulum\")\n",
    "    ax[1].axis([-1.2, 1.2, -1.2, 1.2])\n",
    "    ax[1].set_aspect('equal')\n",
    "    line3, = ax[1].plot([], [], linewidth=4, color=\"tab:blue\")\n",
    "    line4, = ax[1].plot([], [], 'o', markersize=10, color=\"tab:red\")\n",
    "\n",
    "    def on_click(event):\n",
    "        global toggle, labels\n",
    "        if event.button is MouseButton.LEFT:\n",
    "            if event.inaxes == button:\n",
    "                labels[toggle].set_visible(False)\n",
    "                toggle = not toggle\n",
    "                labels[toggle].set_visible(True)\n",
    "            if event.inaxes == ax[0]:\n",
    "                x = event.xdata\n",
    "                y = event.ydata\n",
    "                if x>xrange[0] and x<xrange[1] and y>yrange[0] and y<yrange[1]:\n",
    "                    if toggle:\n",
    "                        equilibrium = fsolve(lambda x: f(0, x, pars), [x, y])\n",
    "                        ax[0].scatter(equilibrium[0], equilibrium[1], s=70, color='tab:red', zorder=2)\n",
    "                        point = [np.sin(equilibrium[0]), -np.cos(equilibrium[0])]\n",
    "                        line3.set_data([0, point[0]], [0, point[1]])\n",
    "                        line4.set_data(point[0], point[1])\n",
    "                        fig.canvas.draw()\n",
    "                    else:\n",
    "                        sol = solve_ivp(pendulum, [0, T], [x, y], t_eval=np.linspace(0, T, Neval*Nframes),\n",
    "                                        args=[pars], atol=1.e-8, rtol=1.e-6)\n",
    "                        ani = animation.FuncAnimation(fig, update_graph, frames=range(1, Nframes),\n",
    "                                        fargs=(sol.y, Nframes, Neval, ax[0], line1, line2, line3, line4),\n",
    "                                        interval=50, repeat=False)\n",
    "                        fig.canvas.draw()\n",
    " \n",
    "    plt.connect('button_press_event', on_click)\n",
    "\n",
    "def update_graph(k, u, Nframes, N, ax, line1, line2, line3, line4):\n",
    "    soln = convert2circle(u[:, :k*N])\n",
    "    line1.set_data(soln[0, :], soln[1, :])\n",
    "    line2.set_data(soln[0, -1], soln[1, -1])\n",
    "    point = [np.sin(soln[0, -1]), -np.cos(soln[0, -1])]\n",
    "    line3.set_data([0, point[0]], [0, point[1]])\n",
    "    line4.set_data(point[0], point[1])\n",
    "    if k==Nframes-1:\n",
    "        ax.plot(soln[0,:], soln[1,:], linewidth=2, color=\"tab:green\", zorder=1)\n",
    "\n",
    "def convert2circle(u):\n",
    "    u[0,:] = np.mod(u[0,:]+np.pi, 2*np.pi) - np.pi\n",
    "    jumps = abs(np.diff(u[0,:]))\n",
    "    ind = 1+np.where(jumps > np.pi)[0]\n",
    "    return np.insert(u, ind, np.NaN, axis=1)\n",
    "        \n",
    "def plotdf(rhs, pars, xrange, yrange, grid, ax):\n",
    "    x = np.linspace(xrange[0], xrange[1], grid[0])\n",
    "    y = np.linspace(yrange[0], yrange[1], grid[1])\n",
    "    X, Y = np.meshgrid(x, y)\n",
    "    DX, DY = rhs(0, [X, Y], pars)\n",
    "    M = (np.hypot(DX, DY))\n",
    "    M[M==0] = 1.0\n",
    "    DX = DX/M\n",
    "    DY = DY/M\n",
    "    ax.quiver(X, Y, DX, DY, color='tab:gray', angles='xy', alpha=0.5)"
   ]
  },
  {
   "cell_type": "code",
   "execution_count": 3,
   "metadata": {},
   "outputs": [
    {
     "data": {
      "application/vnd.jupyter.widget-view+json": {
       "model_id": "dd69006de5344a5da9f8f0b848ad9c4a",
       "version_major": 2,
       "version_minor": 0
      },
      "text/plain": [
       "Canvas(toolbar=Toolbar(toolitems=[('Home', 'Reset original view', 'home', 'home'), ('Back', 'Back to previous …"
      ]
     },
     "metadata": {},
     "output_type": "display_data"
    }
   ],
   "source": [
    "def pendulum(t, u, damping):\n",
    "    return [u[1], -damping*u[1] - np.sin(u[0])]\n",
    "\n",
    "damping = 0.0\n",
    "generate_phase_portrait(pendulum, damping, Nframes=150)"
   ]
  },
  {
   "cell_type": "code",
   "execution_count": null,
   "metadata": {},
   "outputs": [],
   "source": []
  }
 ],
 "metadata": {
  "celltoolbar": "Tags",
  "kernelspec": {
   "display_name": "Python 3",
   "language": "python",
   "name": "python3"
  },
  "language_info": {
   "codemirror_mode": {
    "name": "ipython",
    "version": 3
   },
   "file_extension": ".py",
   "mimetype": "text/x-python",
   "name": "python",
   "nbconvert_exporter": "python",
   "pygments_lexer": "ipython3",
   "version": "3.7.9"
  },
  "widgets": {
   "application/vnd.jupyter.widget-state+json": {
    "state": {
     "0d442b52c37f439d9dfde69c9275e9cd": {
      "model_module": "@jupyter-widgets/base",
      "model_module_version": "1.2.0",
      "model_name": "LayoutModel",
      "state": {}
     },
     "5659ab6174784b08913260799f643327": {
      "model_module": "jupyter-matplotlib",
      "model_module_version": "^0.7.4",
      "model_name": "ToolbarModel",
      "state": {
       "layout": "IPY_MODEL_897f6a9c0c2c4505abc606d74a0ef752",
       "toolitems": [
        [
         "Home",
         "Reset original view",
         "home",
         "home"
        ],
        [
         "Back",
         "Back to previous view",
         "arrow-left",
         "back"
        ],
        [
         "Forward",
         "Forward to next view",
         "arrow-right",
         "forward"
        ],
        [
         "Pan",
         "Left button pans, Right button zooms\nx/y fixes axis, CTRL fixes aspect",
         "arrows",
         "pan"
        ],
        [
         "Zoom",
         "Zoom to rectangle\nx/y fixes axis, CTRL fixes aspect",
         "square-o",
         "zoom"
        ],
        [
         "Download",
         "Download plot",
         "floppy-o",
         "save_figure"
        ]
       ]
      }
     },
     "897f6a9c0c2c4505abc606d74a0ef752": {
      "model_module": "@jupyter-widgets/base",
      "model_module_version": "1.2.0",
      "model_name": "LayoutModel",
      "state": {}
     },
     "dd69006de5344a5da9f8f0b848ad9c4a": {
      "model_module": "jupyter-matplotlib",
      "model_module_version": "^0.7.4",
      "model_name": "MPLCanvasModel",
      "state": {
       "_cursor": "default",
       "_figure_label": "Figure 1",
       "_height": 400,
       "_image_mode": "diff",
       "_width": 800,
       "layout": "IPY_MODEL_0d442b52c37f439d9dfde69c9275e9cd",
       "toolbar": "IPY_MODEL_5659ab6174784b08913260799f643327",
       "toolbar_position": "left"
      }
     }
    },
    "version_major": 2,
    "version_minor": 0
   }
  }
 },
 "nbformat": 4,
 "nbformat_minor": 4
}
